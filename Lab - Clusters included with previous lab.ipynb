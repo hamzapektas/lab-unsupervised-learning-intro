{
 "cells": [
  {
   "cell_type": "code",
   "execution_count": 1,
   "id": "144841b7",
   "metadata": {},
   "outputs": [],
   "source": [
    "import spotipy\n",
    "from spotipy.oauth2 import SpotifyClientCredentials\n",
    "import pandas as pd"
   ]
  },
  {
   "cell_type": "code",
   "execution_count": 2,
   "id": "33c8d28a",
   "metadata": {},
   "outputs": [],
   "source": [
    "sp = spotipy.Spotify(auth_manager=SpotifyClientCredentials(client_id='01a8d66b15074589b317cf0551577652',\n",
    "                                                          client_secret='6c47eafc6cd047bea3f2bbc1a4a9f756'))"
   ]
  },
  {
   "cell_type": "code",
   "execution_count": 3,
   "id": "27e356c9",
   "metadata": {},
   "outputs": [],
   "source": [
    "# playlist = sp.user_playlist_tracks(\"spotify\", \"5orZL8SetQM1LR3pMXZMOa\")"
   ]
  },
  {
   "cell_type": "code",
   "execution_count": 4,
   "id": "e6c2bbcd",
   "metadata": {},
   "outputs": [],
   "source": [
    "playlist = sp.user_playlist_tracks(\"spotify\", \"4rnleEAOdmFAbRcNCgZMpY\")"
   ]
  },
  {
   "cell_type": "code",
   "execution_count": 5,
   "id": "2de938a5",
   "metadata": {},
   "outputs": [],
   "source": [
    "# playlist"
   ]
  },
  {
   "cell_type": "code",
   "execution_count": 6,
   "id": "ba8343a5",
   "metadata": {},
   "outputs": [
    {
     "data": {
      "text/plain": [
       "dict_keys(['href', 'items', 'limit', 'next', 'offset', 'previous', 'total'])"
      ]
     },
     "execution_count": 6,
     "metadata": {},
     "output_type": "execute_result"
    }
   ],
   "source": [
    "playlist.keys()"
   ]
  },
  {
   "cell_type": "code",
   "execution_count": 9,
   "id": "1e2a2fc0",
   "metadata": {},
   "outputs": [
    {
     "data": {
      "text/plain": [
       "5295"
      ]
     },
     "execution_count": 9,
     "metadata": {},
     "output_type": "execute_result"
    }
   ],
   "source": [
    "playlist['total']"
   ]
  },
  {
   "cell_type": "code",
   "execution_count": 10,
   "id": "216b0c77",
   "metadata": {},
   "outputs": [
    {
     "data": {
      "text/plain": [
       "'https://api.spotify.com/v1/playlists/4rnleEAOdmFAbRcNCgZMpY/tracks?offset=100&limit=100&additional_types=track'"
      ]
     },
     "execution_count": 10,
     "metadata": {},
     "output_type": "execute_result"
    }
   ],
   "source": [
    "playlist[\"next\"] "
   ]
  },
  {
   "cell_type": "code",
   "execution_count": 195,
   "id": "64390197",
   "metadata": {},
   "outputs": [],
   "source": [
    "# playlist['tracks']['items']"
   ]
  },
  {
   "cell_type": "code",
   "execution_count": 74,
   "id": "9203c369",
   "metadata": {
    "scrolled": true
   },
   "outputs": [
    {
     "name": "stdout",
     "output_type": "stream",
     "text": [
      "100\n",
      "['6OZh916QF8XNunWaP97WEZ', '25C5CowdsfXld2jJanbiex', '4saklk6nie3yiGePpBwUoc', '3tjFYV6RSFtuktYl3ZtYcq', '4lYTkvMkcNRj9uoSr8Zpws', '24ySl2hOPGCDcxBxFIqWBu', '0ct6r3EGTcMLPtrXHDvVjc', '2b8fOow8UzyDFAE27YhOZM', '1xQ6trAsedVPCdbtDAmk0c', '4WrS6vezaPwOafKJmHqMEU', '0sf12qNH5qcw8qpgymFOqD', '2Oycxb8QbPkpHTo8ZrmG0B', '7qEHsqek33rTcFNT9PFqLf', '24Yi9hE78yPEbZ4kxyoXAI', '6RsWqX8zABZLhZydXxEFOm', '1rgnBhdG2JDFTbYkYRZAku', '4Zpe9VME8DiFjLdqSqPRoZ', '0NwHcjsMMGgolX6CXFDwQT', '7gBj0VgcuAgkXkiRRYvSmK', '1CUVN2kn7mW5FjkqXTR2W1', '0KsB4TwgATg88aXCMBoO3Y', '5SxkdsY1ufZzoq9iXceLw9', '6nYoTBmGFNgfTyRC8x1Fvp', '0r4SsYcwvd8URat6AS2m6f', '0Y4hwUppbGc8aIBmiTz30A', '66hayvUbTotekKU3H4ta1f', '1gm616Plq4ScqNi7TVkZ5N', '6NFyWDv5CjfwuzoCkw47Xf', '5a7NdkF09AfD0H607eiOkX', '4EAV2cKiqKP5UPZmY6dejk', '1UfBAJfmofTffrae5ls6DA', '6y68QK2SwC38YxsbxHrA8I', '79jX8RM5CgPqDKdGEKNW9K', '4umIPjkehX1r7uhmGvXiSV', '3n3b5WNEohHP7Ou4ndBo6b', '1fWlO0aGCnI1ldWDMUrOyB', '4iZPNYqzI2L0uwuUKun7Aa', '5Sf3GyLEAzJXxZ5mbCPXTu', '1brwdYwjltrJo7WHpIvbYt', '69uxyAqqPIsUyTO8txoP2M', '0SJPThTy7ynySPF4euczx7', '6b3b7lILUJqXcp6w9wNQSm', '0gb1J5UrTpzaU1s3nupgCd', '1ixphys4A3NEXp6MDScfih', '0azC730Exh71aQlOt9Zj3y', '5YHR8wBR5jXfGtP766NiAT', '6JV2JOEocMgcZxYSZelKcc', '1z5jOmNswvnzjC5gFLu5Dv', '7py16W5fWYLFFS6BElKAjn', '1i1fxkWeaMmKEB4T7zqbzK', '5mMRgTxoeBjEAZdBjPGvaC', '7n9bPHZvl5UvmLPhNjUH1C', '3cNjgVBKTJ1SvKhunrCdVy', '6ZSO7kPn8IMJFymyticbJO', '2u0RIiyxi897MgTaky1sf1', '2CPqh63wRVscbceKcPxwvv', '6DNtNfH8hXkqOX1sjqmI7p', '23L5CiUhw2jV1OIMwthR3S', '3XIIOCu6B8PuGq5j61asEM', '4cSR8iebRqGXHFHo7lHIpm', '50kpGaPAhYJ3sGmk6vplg0', '6nRwc5GgNvBMkKaynhQzrm', '3O09PoBmmhotSUxLZfcRP0', '2uEJanMvnA1dXgX1ASnPQm', '7q0aQpiLv5tIsupcgQ3Ny4', '5tjrH5xrpkgKgYd8zQgU8X', '7MmG8p0F9N3C4AXdK6o6Eb', '5fnA9mkIfScSqHIpeDyvck', '0sQLhT32E9ZG2zn5iYR6nN', '5b2bu6yyATC1zMXDGScJ2d', '6izhPbUU3CeMYvTT74YHnb', '0fYVliAYKHuPmECRs1pbRf', '74Xdx4ezYQQlg8wKswq25T', '3zkWCteF82vJwv0hRLba76', '6ukMqDxnOPOgoHdak7Kyp3', '2hsza71y54ABzmabyNDtM4', '6wMeMFLaD4NCxXzkXgkuM1', '53b7YqVw2Vc1oRrYeOm7z7', '0HFx7PLqzGxSfN59j3UHmR', '7xoUc6faLbCqZO6fQEYprd', '7wqSzGeodspE3V6RBD5W8L', '4orphgwPHHRsdEkfUmANSD', '1tIUfYWKAeMEeQqL6venu0', '34gCuhDGsG4bRPIf9bb02f', '7fPHfBCyKE3aVCBjE4DAvl', '7ioiB40H9xKs04QtIso2I3', '15DrrIod12Tc2IoMaHiwlQ', '0xCmwofyCiXdhoBsMSNj2w', '3DnzEB8Ffnp5sjnCbOugUX', '78TTtXnFQPzwqlbtbwqN0y', '1i1rNVtxbE7rdFfpHuNq2j', '6Knv6wdA0luoMUuuoYi2i1', '57kR5SniQIbsbVoIjjOUDa', '00GfiT5AxTNSDQihPeMRkM', '7yq4Qj7cqayVTp3FF9CWbm', '4qABfS1RaGVXdBhj2BQyhO', '1ip2IGDWMrUmlaepEbWlL8', '1VbhR6D6zUoSTBzvnRonXO', '3bT5PDBhVj4ifU11zQvGP2', '1KZyVnyptQcPzkx7ELCnZC']\n"
     ]
    }
   ],
   "source": [
    "def getTrackIDs(user, playlist_id):\n",
    "    track_ids = []\n",
    "    results = sp.user_playlist(user, playlist_id)\n",
    "    for item in results['tracks']['items']:\n",
    "        track = item['track']\n",
    "        track_ids.append(track['id']) \n",
    "\n",
    "    return track_ids\n",
    "\n",
    "track_ids = getTrackIDs('spotify', '5orZL8SetQM1LR3pMXZMOa')\n",
    "\n",
    "print(len(track_ids))\n",
    "print(track_ids)"
   ]
  },
  {
   "cell_type": "code",
   "execution_count": null,
   "id": "63bdd60b",
   "metadata": {},
   "outputs": [],
   "source": [
    "#     tracks = results['tracks']['items']\n",
    "#         while results['tracks']['next']!=None:\n",
    "#             results = sp.next(results['tracks'])\n",
    "#             tracks = tracks + results['tracks']['items']\n",
    " "
   ]
  },
  {
   "cell_type": "code",
   "execution_count": 44,
   "id": "d498aeea",
   "metadata": {},
   "outputs": [],
   "source": [
    "# this is for 100 songs but dataframe(df_final) for the rest is at the end\n",
    "\n",
    "\n",
    "def getTrackFeatures(id):\n",
    "    track_info = sp.track(id)\n",
    "    features_info = sp.audio_features(id)\n",
    "    \n",
    "    name = track_info['name']\n",
    "    album = track_info['album']['name']\n",
    "    artist = track_info['album']['artists'][0]['name']\n",
    "    release_date = track_info['album']['release_date']\n",
    "    length = track_info['duration_ms']\n",
    "    popularity = track_info['popularity']\n",
    "    \n",
    "    acousticness = features_info[0]['acousticness']\n",
    "    danceability = features_info[0]['danceability']\n",
    "    energy = features_info[0]['energy']\n",
    "    instrumentalness = features_info[0]['instrumentalness'] \n",
    "    liveness = features_info[0]['liveness']\n",
    "    loudness = features_info[0]['loudness']\n",
    "    speechiness = features_info[0]['speechiness']\n",
    "    tempo = features_info[0]['tempo']\n",
    "    time_signature = features_info[0]['time_signature']\n",
    "    \n",
    "    track_data = [name, album, artist, release_date, length, popularity, acousticness, danceability, energy, \n",
    "                  instrumentalness, liveness, loudness, speechiness, tempo, time_signature]\n",
    "    return track_data"
   ]
  },
  {
   "cell_type": "code",
   "execution_count": 47,
   "id": "1f6fa610",
   "metadata": {},
   "outputs": [
    {
     "data": {
      "text/html": [
       "<div>\n",
       "<style scoped>\n",
       "    .dataframe tbody tr th:only-of-type {\n",
       "        vertical-align: middle;\n",
       "    }\n",
       "\n",
       "    .dataframe tbody tr th {\n",
       "        vertical-align: top;\n",
       "    }\n",
       "\n",
       "    .dataframe thead th {\n",
       "        text-align: right;\n",
       "    }\n",
       "</style>\n",
       "<table border=\"1\" class=\"dataframe\">\n",
       "  <thead>\n",
       "    <tr style=\"text-align: right;\">\n",
       "      <th></th>\n",
       "      <th>name</th>\n",
       "      <th>album</th>\n",
       "      <th>artist</th>\n",
       "      <th>release_date</th>\n",
       "      <th>length</th>\n",
       "      <th>popularity</th>\n",
       "      <th>acousticness</th>\n",
       "      <th>danceability</th>\n",
       "      <th>energy</th>\n",
       "      <th>instrumentalness</th>\n",
       "      <th>liveness</th>\n",
       "      <th>loudness</th>\n",
       "      <th>speechiness</th>\n",
       "      <th>tempo</th>\n",
       "      <th>time_signature</th>\n",
       "    </tr>\n",
       "  </thead>\n",
       "  <tbody>\n",
       "    <tr>\n",
       "      <th>0</th>\n",
       "      <td>Fast Car</td>\n",
       "      <td>Fast Car</td>\n",
       "      <td>Jonas Blue</td>\n",
       "      <td>2015-12-04</td>\n",
       "      <td>212424</td>\n",
       "      <td>0</td>\n",
       "      <td>0.4530</td>\n",
       "      <td>0.459</td>\n",
       "      <td>0.587</td>\n",
       "      <td>0.0</td>\n",
       "      <td>0.3070</td>\n",
       "      <td>-6.983</td>\n",
       "      <td>0.0785</td>\n",
       "      <td>113.901</td>\n",
       "      <td>4</td>\n",
       "    </tr>\n",
       "    <tr>\n",
       "      <th>1</th>\n",
       "      <td>Sorry Not Sorry</td>\n",
       "      <td>Sorry Not Sorry</td>\n",
       "      <td>Demi Lovato</td>\n",
       "      <td>2017-07-11</td>\n",
       "      <td>203760</td>\n",
       "      <td>0</td>\n",
       "      <td>0.0252</td>\n",
       "      <td>0.701</td>\n",
       "      <td>0.638</td>\n",
       "      <td>0.0</td>\n",
       "      <td>0.2560</td>\n",
       "      <td>-6.889</td>\n",
       "      <td>0.2380</td>\n",
       "      <td>144.084</td>\n",
       "      <td>4</td>\n",
       "    </tr>\n",
       "    <tr>\n",
       "      <th>2</th>\n",
       "      <td>Dynamite</td>\n",
       "      <td>BE</td>\n",
       "      <td>BTS</td>\n",
       "      <td>2020-11-20</td>\n",
       "      <td>199053</td>\n",
       "      <td>86</td>\n",
       "      <td>0.0112</td>\n",
       "      <td>0.746</td>\n",
       "      <td>0.765</td>\n",
       "      <td>0.0</td>\n",
       "      <td>0.0936</td>\n",
       "      <td>-4.410</td>\n",
       "      <td>0.0993</td>\n",
       "      <td>114.044</td>\n",
       "      <td>4</td>\n",
       "    </tr>\n",
       "    <tr>\n",
       "      <th>3</th>\n",
       "      <td>Mood (feat. iann dior)</td>\n",
       "      <td>Mood (feat. iann dior)</td>\n",
       "      <td>24kGoldn</td>\n",
       "      <td>2020-07-24</td>\n",
       "      <td>140525</td>\n",
       "      <td>36</td>\n",
       "      <td>0.2210</td>\n",
       "      <td>0.700</td>\n",
       "      <td>0.722</td>\n",
       "      <td>0.0</td>\n",
       "      <td>0.2720</td>\n",
       "      <td>-3.558</td>\n",
       "      <td>0.0369</td>\n",
       "      <td>90.989</td>\n",
       "      <td>4</td>\n",
       "    </tr>\n",
       "    <tr>\n",
       "      <th>4</th>\n",
       "      <td>Mercy</td>\n",
       "      <td>Mercy</td>\n",
       "      <td>Shawn Mendes</td>\n",
       "      <td>2016-08-18</td>\n",
       "      <td>208733</td>\n",
       "      <td>0</td>\n",
       "      <td>0.1090</td>\n",
       "      <td>0.563</td>\n",
       "      <td>0.684</td>\n",
       "      <td>0.0</td>\n",
       "      <td>0.1100</td>\n",
       "      <td>-4.916</td>\n",
       "      <td>0.0919</td>\n",
       "      <td>147.920</td>\n",
       "      <td>4</td>\n",
       "    </tr>\n",
       "  </tbody>\n",
       "</table>\n",
       "</div>"
      ],
      "text/plain": [
       "                     name                   album        artist release_date  \\\n",
       "0                Fast Car                Fast Car    Jonas Blue   2015-12-04   \n",
       "1         Sorry Not Sorry         Sorry Not Sorry   Demi Lovato   2017-07-11   \n",
       "2                Dynamite                      BE           BTS   2020-11-20   \n",
       "3  Mood (feat. iann dior)  Mood (feat. iann dior)      24kGoldn   2020-07-24   \n",
       "4                   Mercy                   Mercy  Shawn Mendes   2016-08-18   \n",
       "\n",
       "   length  popularity  acousticness  danceability  energy  instrumentalness  \\\n",
       "0  212424           0        0.4530         0.459   0.587               0.0   \n",
       "1  203760           0        0.0252         0.701   0.638               0.0   \n",
       "2  199053          86        0.0112         0.746   0.765               0.0   \n",
       "3  140525          36        0.2210         0.700   0.722               0.0   \n",
       "4  208733           0        0.1090         0.563   0.684               0.0   \n",
       "\n",
       "   liveness  loudness  speechiness    tempo  time_signature  \n",
       "0    0.3070    -6.983       0.0785  113.901               4  \n",
       "1    0.2560    -6.889       0.2380  144.084               4  \n",
       "2    0.0936    -4.410       0.0993  114.044               4  \n",
       "3    0.2720    -3.558       0.0369   90.989               4  \n",
       "4    0.1100    -4.916       0.0919  147.920               4  "
      ]
     },
     "execution_count": 47,
     "metadata": {},
     "output_type": "execute_result"
    }
   ],
   "source": [
    "track_list = []\n",
    "\n",
    "for i in  range(len(track_ids)):\n",
    "    sleep(randint(1,3))\n",
    "    track_data = getTrackFeatures(track_ids[i])\n",
    "    track_list.append(track_data)\n",
    "    \n",
    "Top_Hits = pd.DataFrame(track_list, columns = ['name', 'album', 'artist', 'release_date', 'length', 'popularity', 'acousticness', 'danceability', 'energy', \n",
    "                  'instrumentalness', 'liveness', 'loudness', 'speechiness', 'tempo', 'time_signature'])\n",
    "\n",
    "Top_Hits.head()"
   ]
  },
  {
   "cell_type": "code",
   "execution_count": 48,
   "id": "1f14e772",
   "metadata": {},
   "outputs": [
    {
     "data": {
      "text/plain": [
       "(100, 15)"
      ]
     },
     "execution_count": 48,
     "metadata": {},
     "output_type": "execute_result"
    }
   ],
   "source": [
    "Top_Hits.shape"
   ]
  },
  {
   "cell_type": "code",
   "execution_count": null,
   "id": "db4b790a",
   "metadata": {},
   "outputs": [],
   "source": [
    "# create function to extract contributing artists as lists from each song\n",
    "# def track_artists(spotify_tracks):\n",
    "#     artists = [[track['track']['artists'][x]['name'] for x in range(len(track['track']['artists']))]for track in spotify_tracks]\n",
    "#     return artists"
   ]
  },
  {
   "cell_type": "code",
   "execution_count": null,
   "id": "dc5ee76d",
   "metadata": {},
   "outputs": [],
   "source": [
    "# #create function to extract track names from a list of track names and return the result as a list\n",
    "# def track_titles(spotify_tracks):\n",
    "#     titles = [track['track']['name']for track in spotify_tracks]\n",
    "#     return titles"
   ]
  },
  {
   "cell_type": "code",
   "execution_count": 80,
   "id": "cef5e477",
   "metadata": {},
   "outputs": [],
   "source": [
    "# sp.next(playlist)"
   ]
  },
  {
   "cell_type": "code",
   "execution_count": 192,
   "id": "4cb6c63a",
   "metadata": {},
   "outputs": [],
   "source": [
    "# df_names = pd.DataFrame(names_playlist)\n",
    "# df_names"
   ]
  },
  {
   "cell_type": "code",
   "execution_count": 11,
   "id": "2ff5a599",
   "metadata": {},
   "outputs": [],
   "source": [
    "from random import randint\n",
    "from time import sleep\n",
    "\n",
    "def get_playlist_tracks(playlist_id):\n",
    "    results = sp.user_playlist_tracks(\"spotify\",playlist_id)\n",
    "    tracks = results['items']\n",
    "    while results['next']!=None:\n",
    "        results = sp.next(results)\n",
    "        tracks = tracks + results['items']\n",
    "        sleep(randint(1,3))\n",
    "    return tracks"
   ]
  },
  {
   "cell_type": "code",
   "execution_count": 13,
   "id": "3ed0e14d",
   "metadata": {},
   "outputs": [],
   "source": [
    "whole_playlist = get_playlist_tracks(\"4rnleEAOdmFAbRcNCgZMpY\")"
   ]
  },
  {
   "cell_type": "code",
   "execution_count": 14,
   "id": "70849b12",
   "metadata": {},
   "outputs": [
    {
     "data": {
      "text/plain": [
       "5295"
      ]
     },
     "execution_count": 14,
     "metadata": {},
     "output_type": "execute_result"
    }
   ],
   "source": [
    "len(whole_playlist)"
   ]
  },
  {
   "cell_type": "code",
   "execution_count": 15,
   "id": "075a4574",
   "metadata": {},
   "outputs": [
    {
     "data": {
      "text/plain": [
       "'Mike Posner'"
      ]
     },
     "execution_count": 15,
     "metadata": {},
     "output_type": "execute_result"
    }
   ],
   "source": [
    "whole_playlist[1]['track']['artists'][0]['name']"
   ]
  },
  {
   "cell_type": "code",
   "execution_count": 16,
   "id": "b22395fa",
   "metadata": {},
   "outputs": [],
   "source": [
    "def track_artists(spotify_tracks):\n",
    "    artist = [whole_playlist[i]['track']['artists'][0]['name'] for i in range(len(spotify_tracks))]\n",
    "    return artist"
   ]
  },
  {
   "cell_type": "code",
   "execution_count": 17,
   "id": "d437044f",
   "metadata": {},
   "outputs": [],
   "source": [
    "songs_artist = track_artists(whole_playlist)\n",
    "# songs_artist"
   ]
  },
  {
   "cell_type": "code",
   "execution_count": 18,
   "id": "8af0cd85",
   "metadata": {},
   "outputs": [
    {
     "data": {
      "text/html": [
       "<div>\n",
       "<style scoped>\n",
       "    .dataframe tbody tr th:only-of-type {\n",
       "        vertical-align: middle;\n",
       "    }\n",
       "\n",
       "    .dataframe tbody tr th {\n",
       "        vertical-align: top;\n",
       "    }\n",
       "\n",
       "    .dataframe thead th {\n",
       "        text-align: right;\n",
       "    }\n",
       "</style>\n",
       "<table border=\"1\" class=\"dataframe\">\n",
       "  <thead>\n",
       "    <tr style=\"text-align: right;\">\n",
       "      <th></th>\n",
       "      <th>artist</th>\n",
       "    </tr>\n",
       "  </thead>\n",
       "  <tbody>\n",
       "    <tr>\n",
       "      <th>0</th>\n",
       "      <td>Hozier</td>\n",
       "    </tr>\n",
       "    <tr>\n",
       "      <th>1</th>\n",
       "      <td>Mike Posner</td>\n",
       "    </tr>\n",
       "    <tr>\n",
       "      <th>2</th>\n",
       "      <td>Tyler, The Creator</td>\n",
       "    </tr>\n",
       "    <tr>\n",
       "      <th>3</th>\n",
       "      <td>Bastille</td>\n",
       "    </tr>\n",
       "    <tr>\n",
       "      <th>4</th>\n",
       "      <td>Shakira</td>\n",
       "    </tr>\n",
       "    <tr>\n",
       "      <th>...</th>\n",
       "      <td>...</td>\n",
       "    </tr>\n",
       "    <tr>\n",
       "      <th>5290</th>\n",
       "      <td>MARINA</td>\n",
       "    </tr>\n",
       "    <tr>\n",
       "      <th>5291</th>\n",
       "      <td>Olivia Rodrigo</td>\n",
       "    </tr>\n",
       "    <tr>\n",
       "      <th>5292</th>\n",
       "      <td>BIA</td>\n",
       "    </tr>\n",
       "    <tr>\n",
       "      <th>5293</th>\n",
       "      <td>Ashnikko</td>\n",
       "    </tr>\n",
       "    <tr>\n",
       "      <th>5294</th>\n",
       "      <td>Kali Uchis</td>\n",
       "    </tr>\n",
       "  </tbody>\n",
       "</table>\n",
       "<p>5295 rows × 1 columns</p>\n",
       "</div>"
      ],
      "text/plain": [
       "                  artist\n",
       "0                 Hozier\n",
       "1            Mike Posner\n",
       "2     Tyler, The Creator\n",
       "3               Bastille\n",
       "4                Shakira\n",
       "...                  ...\n",
       "5290              MARINA\n",
       "5291      Olivia Rodrigo\n",
       "5292                 BIA\n",
       "5293            Ashnikko\n",
       "5294          Kali Uchis\n",
       "\n",
       "[5295 rows x 1 columns]"
      ]
     },
     "execution_count": 18,
     "metadata": {},
     "output_type": "execute_result"
    }
   ],
   "source": [
    "df_artist = pd.DataFrame(songs_artist, columns=['artist'])\n",
    "df_artist"
   ]
  },
  {
   "cell_type": "code",
   "execution_count": 19,
   "id": "a2b0afd1",
   "metadata": {},
   "outputs": [],
   "source": [
    "def track_name(spotify_tracks):\n",
    "    name = [whole_playlist[i]['track']['name'] for i in range(len(spotify_tracks))]\n",
    "    return name"
   ]
  },
  {
   "cell_type": "code",
   "execution_count": 20,
   "id": "5bc5e04e",
   "metadata": {},
   "outputs": [],
   "source": [
    "songs_name = track_name(whole_playlist)\n",
    "\n",
    "# songs_name"
   ]
  },
  {
   "cell_type": "code",
   "execution_count": 21,
   "id": "b59231b3",
   "metadata": {},
   "outputs": [
    {
     "data": {
      "text/html": [
       "<div>\n",
       "<style scoped>\n",
       "    .dataframe tbody tr th:only-of-type {\n",
       "        vertical-align: middle;\n",
       "    }\n",
       "\n",
       "    .dataframe tbody tr th {\n",
       "        vertical-align: top;\n",
       "    }\n",
       "\n",
       "    .dataframe thead th {\n",
       "        text-align: right;\n",
       "    }\n",
       "</style>\n",
       "<table border=\"1\" class=\"dataframe\">\n",
       "  <thead>\n",
       "    <tr style=\"text-align: right;\">\n",
       "      <th></th>\n",
       "      <th>name</th>\n",
       "    </tr>\n",
       "  </thead>\n",
       "  <tbody>\n",
       "    <tr>\n",
       "      <th>0</th>\n",
       "      <td>Take Me To Church</td>\n",
       "    </tr>\n",
       "    <tr>\n",
       "      <th>1</th>\n",
       "      <td>Cooler Than Me - Single Mix</td>\n",
       "    </tr>\n",
       "    <tr>\n",
       "      <th>2</th>\n",
       "      <td>See You Again (feat. Kali Uchis)</td>\n",
       "    </tr>\n",
       "    <tr>\n",
       "      <th>3</th>\n",
       "      <td>Pompeii</td>\n",
       "    </tr>\n",
       "    <tr>\n",
       "      <th>4</th>\n",
       "      <td>Hips Don't Lie (feat. Wyclef Jean)</td>\n",
       "    </tr>\n",
       "    <tr>\n",
       "      <th>...</th>\n",
       "      <td>...</td>\n",
       "    </tr>\n",
       "    <tr>\n",
       "      <th>5290</th>\n",
       "      <td>Hermit the Frog</td>\n",
       "    </tr>\n",
       "    <tr>\n",
       "      <th>5291</th>\n",
       "      <td>deja vu</td>\n",
       "    </tr>\n",
       "    <tr>\n",
       "      <th>5292</th>\n",
       "      <td>WHOLE LOTTA MONEY</td>\n",
       "    </tr>\n",
       "    <tr>\n",
       "      <th>5293</th>\n",
       "      <td>Slumber Party (feat. Princess Nokia)</td>\n",
       "    </tr>\n",
       "    <tr>\n",
       "      <th>5294</th>\n",
       "      <td>telepatía</td>\n",
       "    </tr>\n",
       "  </tbody>\n",
       "</table>\n",
       "<p>5295 rows × 1 columns</p>\n",
       "</div>"
      ],
      "text/plain": [
       "                                      name\n",
       "0                        Take Me To Church\n",
       "1              Cooler Than Me - Single Mix\n",
       "2         See You Again (feat. Kali Uchis)\n",
       "3                                  Pompeii\n",
       "4       Hips Don't Lie (feat. Wyclef Jean)\n",
       "...                                    ...\n",
       "5290                       Hermit the Frog\n",
       "5291                               deja vu\n",
       "5292                     WHOLE LOTTA MONEY\n",
       "5293  Slumber Party (feat. Princess Nokia)\n",
       "5294                             telepatía\n",
       "\n",
       "[5295 rows x 1 columns]"
      ]
     },
     "execution_count": 21,
     "metadata": {},
     "output_type": "execute_result"
    }
   ],
   "source": [
    "df_name = pd.DataFrame(songs_name, columns = ['name'])\n",
    "df_name"
   ]
  },
  {
   "cell_type": "code",
   "execution_count": 22,
   "id": "c806a0ff",
   "metadata": {},
   "outputs": [
    {
     "data": {
      "text/plain": [
       "'spotify:track:7dS5EaCoMnN7DzlpT6aRn2'"
      ]
     },
     "execution_count": 22,
     "metadata": {},
     "output_type": "execute_result"
    }
   ],
   "source": [
    "song_uri = whole_playlist[0]['track']['uri']\n",
    "song_uri"
   ]
  },
  {
   "cell_type": "code",
   "execution_count": 23,
   "id": "c5fb8938",
   "metadata": {},
   "outputs": [],
   "source": [
    "#create function to extract track uris from a list of tracks\n",
    "def track_uris(spotify_tracks):\n",
    "    uris = [whole_playlist[i]['track']['uri'] for i in range(len(spotify_tracks))]\n",
    "    return uris\n",
    "song_uris = track_uris(whole_playlist)\n",
    "\n",
    "# song_uris"
   ]
  },
  {
   "cell_type": "code",
   "execution_count": 24,
   "id": "fedb63fa",
   "metadata": {},
   "outputs": [
    {
     "data": {
      "text/html": [
       "<div>\n",
       "<style scoped>\n",
       "    .dataframe tbody tr th:only-of-type {\n",
       "        vertical-align: middle;\n",
       "    }\n",
       "\n",
       "    .dataframe tbody tr th {\n",
       "        vertical-align: top;\n",
       "    }\n",
       "\n",
       "    .dataframe thead th {\n",
       "        text-align: right;\n",
       "    }\n",
       "</style>\n",
       "<table border=\"1\" class=\"dataframe\">\n",
       "  <thead>\n",
       "    <tr style=\"text-align: right;\">\n",
       "      <th></th>\n",
       "      <th>uri</th>\n",
       "    </tr>\n",
       "  </thead>\n",
       "  <tbody>\n",
       "    <tr>\n",
       "      <th>0</th>\n",
       "      <td>spotify:track:7dS5EaCoMnN7DzlpT6aRn2</td>\n",
       "    </tr>\n",
       "    <tr>\n",
       "      <th>1</th>\n",
       "      <td>spotify:track:2V4bv1fNWfTcyRJKmej6Sj</td>\n",
       "    </tr>\n",
       "    <tr>\n",
       "      <th>2</th>\n",
       "      <td>spotify:track:7KA4W4McWYRpgf0fWsJZWB</td>\n",
       "    </tr>\n",
       "    <tr>\n",
       "      <th>3</th>\n",
       "      <td>spotify:track:3gbBpTdY8lnQwqxNCcf795</td>\n",
       "    </tr>\n",
       "    <tr>\n",
       "      <th>4</th>\n",
       "      <td>spotify:track:3ZFTkvIE7kyPt6Nu3PEa7V</td>\n",
       "    </tr>\n",
       "    <tr>\n",
       "      <th>...</th>\n",
       "      <td>...</td>\n",
       "    </tr>\n",
       "    <tr>\n",
       "      <th>5290</th>\n",
       "      <td>spotify:track:4Zcz6saEkOII3PlXd9gN3o</td>\n",
       "    </tr>\n",
       "    <tr>\n",
       "      <th>5291</th>\n",
       "      <td>spotify:track:61KpQadow081I2AsbeLcsb</td>\n",
       "    </tr>\n",
       "    <tr>\n",
       "      <th>5292</th>\n",
       "      <td>spotify:track:5yorXJWdBan1Vlh116ZtQ7</td>\n",
       "    </tr>\n",
       "    <tr>\n",
       "      <th>5293</th>\n",
       "      <td>spotify:track:11ZulcYY4lowvcQm4oe3VJ</td>\n",
       "    </tr>\n",
       "    <tr>\n",
       "      <th>5294</th>\n",
       "      <td>spotify:track:6tDDoYIxWvMLTdKpjFkc1B</td>\n",
       "    </tr>\n",
       "  </tbody>\n",
       "</table>\n",
       "<p>5295 rows × 1 columns</p>\n",
       "</div>"
      ],
      "text/plain": [
       "                                       uri\n",
       "0     spotify:track:7dS5EaCoMnN7DzlpT6aRn2\n",
       "1     spotify:track:2V4bv1fNWfTcyRJKmej6Sj\n",
       "2     spotify:track:7KA4W4McWYRpgf0fWsJZWB\n",
       "3     spotify:track:3gbBpTdY8lnQwqxNCcf795\n",
       "4     spotify:track:3ZFTkvIE7kyPt6Nu3PEa7V\n",
       "...                                    ...\n",
       "5290  spotify:track:4Zcz6saEkOII3PlXd9gN3o\n",
       "5291  spotify:track:61KpQadow081I2AsbeLcsb\n",
       "5292  spotify:track:5yorXJWdBan1Vlh116ZtQ7\n",
       "5293  spotify:track:11ZulcYY4lowvcQm4oe3VJ\n",
       "5294  spotify:track:6tDDoYIxWvMLTdKpjFkc1B\n",
       "\n",
       "[5295 rows x 1 columns]"
      ]
     },
     "execution_count": 24,
     "metadata": {},
     "output_type": "execute_result"
    }
   ],
   "source": [
    "df_uri = pd.DataFrame(song_uris, columns = ['uri'])\n",
    "df_uri"
   ]
  },
  {
   "cell_type": "code",
   "execution_count": 152,
   "id": "e944b46f",
   "metadata": {},
   "outputs": [],
   "source": [
    "features = [sp.audio_features(i) for i in (song_uris)]\n",
    "# features"
   ]
  },
  {
   "cell_type": "code",
   "execution_count": 42,
   "id": "41d15a7f",
   "metadata": {},
   "outputs": [],
   "source": [
    "# features "
   ]
  },
  {
   "cell_type": "code",
   "execution_count": 153,
   "id": "7d36eae2",
   "metadata": {},
   "outputs": [],
   "source": [
    "def flatten(input_list):\n",
    "    return [item for sublist in input_list for item in sublist]"
   ]
  },
  {
   "cell_type": "code",
   "execution_count": 154,
   "id": "a9f9d713",
   "metadata": {},
   "outputs": [
    {
     "data": {
      "text/plain": [
       "{'danceability': 0.566,\n",
       " 'energy': 0.664,\n",
       " 'key': 4,\n",
       " 'loudness': -5.303,\n",
       " 'mode': 0,\n",
       " 'speechiness': 0.0464,\n",
       " 'acousticness': 0.634,\n",
       " 'instrumentalness': 0,\n",
       " 'liveness': 0.116,\n",
       " 'valence': 0.437,\n",
       " 'tempo': 128.945,\n",
       " 'type': 'audio_features',\n",
       " 'id': '7dS5EaCoMnN7DzlpT6aRn2',\n",
       " 'uri': 'spotify:track:7dS5EaCoMnN7DzlpT6aRn2',\n",
       " 'track_href': 'https://api.spotify.com/v1/tracks/7dS5EaCoMnN7DzlpT6aRn2',\n",
       " 'analysis_url': 'https://api.spotify.com/v1/audio-analysis/7dS5EaCoMnN7DzlpT6aRn2',\n",
       " 'duration_ms': 241688,\n",
       " 'time_signature': 4}"
      ]
     },
     "execution_count": 154,
     "metadata": {},
     "output_type": "execute_result"
    }
   ],
   "source": [
    "features1 = flatten(features)\n",
    "features1[0]"
   ]
  },
  {
   "cell_type": "code",
   "execution_count": null,
   "id": "ff406f53",
   "metadata": {},
   "outputs": [],
   "source": [
    "# def audio_features_songs(spotify_tracks):\n",
    "#     features_uris = [features for song_uris in spotify_tracks]\n",
    "#     return features_uris\n",
    "# features_uris = audio_features_songs(whole_playlist)\n",
    "\n",
    "# features_uris"
   ]
  },
  {
   "cell_type": "code",
   "execution_count": 156,
   "id": "2deeadfe",
   "metadata": {},
   "outputs": [
    {
     "data": {
      "text/html": [
       "<div>\n",
       "<style scoped>\n",
       "    .dataframe tbody tr th:only-of-type {\n",
       "        vertical-align: middle;\n",
       "    }\n",
       "\n",
       "    .dataframe tbody tr th {\n",
       "        vertical-align: top;\n",
       "    }\n",
       "\n",
       "    .dataframe thead th {\n",
       "        text-align: right;\n",
       "    }\n",
       "</style>\n",
       "<table border=\"1\" class=\"dataframe\">\n",
       "  <thead>\n",
       "    <tr style=\"text-align: right;\">\n",
       "      <th></th>\n",
       "      <th>danceability</th>\n",
       "      <th>energy</th>\n",
       "      <th>key</th>\n",
       "      <th>loudness</th>\n",
       "      <th>mode</th>\n",
       "      <th>speechiness</th>\n",
       "      <th>acousticness</th>\n",
       "      <th>instrumentalness</th>\n",
       "      <th>liveness</th>\n",
       "      <th>valence</th>\n",
       "      <th>tempo</th>\n",
       "    </tr>\n",
       "  </thead>\n",
       "  <tbody>\n",
       "    <tr>\n",
       "      <th>0</th>\n",
       "      <td>0.566</td>\n",
       "      <td>0.664</td>\n",
       "      <td>4</td>\n",
       "      <td>-5.303</td>\n",
       "      <td>0</td>\n",
       "      <td>0.0464</td>\n",
       "      <td>0.63400</td>\n",
       "      <td>0.000000</td>\n",
       "      <td>0.116</td>\n",
       "      <td>0.437</td>\n",
       "      <td>128.945</td>\n",
       "    </tr>\n",
       "    <tr>\n",
       "      <th>1</th>\n",
       "      <td>0.768</td>\n",
       "      <td>0.820</td>\n",
       "      <td>7</td>\n",
       "      <td>-4.630</td>\n",
       "      <td>0</td>\n",
       "      <td>0.0474</td>\n",
       "      <td>0.17900</td>\n",
       "      <td>0.000000</td>\n",
       "      <td>0.689</td>\n",
       "      <td>0.625</td>\n",
       "      <td>129.965</td>\n",
       "    </tr>\n",
       "    <tr>\n",
       "      <th>2</th>\n",
       "      <td>0.558</td>\n",
       "      <td>0.559</td>\n",
       "      <td>6</td>\n",
       "      <td>-9.222</td>\n",
       "      <td>1</td>\n",
       "      <td>0.0959</td>\n",
       "      <td>0.37100</td>\n",
       "      <td>0.000007</td>\n",
       "      <td>0.109</td>\n",
       "      <td>0.620</td>\n",
       "      <td>78.558</td>\n",
       "    </tr>\n",
       "    <tr>\n",
       "      <th>3</th>\n",
       "      <td>0.679</td>\n",
       "      <td>0.715</td>\n",
       "      <td>9</td>\n",
       "      <td>-6.383</td>\n",
       "      <td>1</td>\n",
       "      <td>0.0407</td>\n",
       "      <td>0.07550</td>\n",
       "      <td>0.000000</td>\n",
       "      <td>0.271</td>\n",
       "      <td>0.571</td>\n",
       "      <td>127.435</td>\n",
       "    </tr>\n",
       "    <tr>\n",
       "      <th>4</th>\n",
       "      <td>0.778</td>\n",
       "      <td>0.824</td>\n",
       "      <td>10</td>\n",
       "      <td>-5.892</td>\n",
       "      <td>0</td>\n",
       "      <td>0.0707</td>\n",
       "      <td>0.28400</td>\n",
       "      <td>0.000000</td>\n",
       "      <td>0.405</td>\n",
       "      <td>0.758</td>\n",
       "      <td>100.024</td>\n",
       "    </tr>\n",
       "    <tr>\n",
       "      <th>...</th>\n",
       "      <td>...</td>\n",
       "      <td>...</td>\n",
       "      <td>...</td>\n",
       "      <td>...</td>\n",
       "      <td>...</td>\n",
       "      <td>...</td>\n",
       "      <td>...</td>\n",
       "      <td>...</td>\n",
       "      <td>...</td>\n",
       "      <td>...</td>\n",
       "      <td>...</td>\n",
       "    </tr>\n",
       "    <tr>\n",
       "      <th>5290</th>\n",
       "      <td>0.609</td>\n",
       "      <td>0.679</td>\n",
       "      <td>0</td>\n",
       "      <td>-4.545</td>\n",
       "      <td>1</td>\n",
       "      <td>0.0312</td>\n",
       "      <td>0.24300</td>\n",
       "      <td>0.000000</td>\n",
       "      <td>0.199</td>\n",
       "      <td>0.487</td>\n",
       "      <td>122.034</td>\n",
       "    </tr>\n",
       "    <tr>\n",
       "      <th>5291</th>\n",
       "      <td>0.439</td>\n",
       "      <td>0.610</td>\n",
       "      <td>9</td>\n",
       "      <td>-7.236</td>\n",
       "      <td>1</td>\n",
       "      <td>0.1160</td>\n",
       "      <td>0.59300</td>\n",
       "      <td>0.000011</td>\n",
       "      <td>0.341</td>\n",
       "      <td>0.172</td>\n",
       "      <td>181.088</td>\n",
       "    </tr>\n",
       "    <tr>\n",
       "      <th>5292</th>\n",
       "      <td>0.897</td>\n",
       "      <td>0.371</td>\n",
       "      <td>1</td>\n",
       "      <td>-5.019</td>\n",
       "      <td>1</td>\n",
       "      <td>0.3680</td>\n",
       "      <td>0.09040</td>\n",
       "      <td>0.000000</td>\n",
       "      <td>0.325</td>\n",
       "      <td>0.441</td>\n",
       "      <td>81.008</td>\n",
       "    </tr>\n",
       "    <tr>\n",
       "      <th>5293</th>\n",
       "      <td>0.964</td>\n",
       "      <td>0.398</td>\n",
       "      <td>11</td>\n",
       "      <td>-8.981</td>\n",
       "      <td>0</td>\n",
       "      <td>0.0795</td>\n",
       "      <td>0.00151</td>\n",
       "      <td>0.000039</td>\n",
       "      <td>0.101</td>\n",
       "      <td>0.563</td>\n",
       "      <td>105.012</td>\n",
       "    </tr>\n",
       "    <tr>\n",
       "      <th>5294</th>\n",
       "      <td>0.653</td>\n",
       "      <td>0.524</td>\n",
       "      <td>11</td>\n",
       "      <td>-9.016</td>\n",
       "      <td>0</td>\n",
       "      <td>0.0502</td>\n",
       "      <td>0.11200</td>\n",
       "      <td>0.000000</td>\n",
       "      <td>0.203</td>\n",
       "      <td>0.553</td>\n",
       "      <td>83.970</td>\n",
       "    </tr>\n",
       "  </tbody>\n",
       "</table>\n",
       "<p>5295 rows × 11 columns</p>\n",
       "</div>"
      ],
      "text/plain": [
       "      danceability  energy  key  loudness  mode  speechiness  acousticness  \\\n",
       "0            0.566   0.664    4    -5.303     0       0.0464       0.63400   \n",
       "1            0.768   0.820    7    -4.630     0       0.0474       0.17900   \n",
       "2            0.558   0.559    6    -9.222     1       0.0959       0.37100   \n",
       "3            0.679   0.715    9    -6.383     1       0.0407       0.07550   \n",
       "4            0.778   0.824   10    -5.892     0       0.0707       0.28400   \n",
       "...            ...     ...  ...       ...   ...          ...           ...   \n",
       "5290         0.609   0.679    0    -4.545     1       0.0312       0.24300   \n",
       "5291         0.439   0.610    9    -7.236     1       0.1160       0.59300   \n",
       "5292         0.897   0.371    1    -5.019     1       0.3680       0.09040   \n",
       "5293         0.964   0.398   11    -8.981     0       0.0795       0.00151   \n",
       "5294         0.653   0.524   11    -9.016     0       0.0502       0.11200   \n",
       "\n",
       "      instrumentalness  liveness  valence    tempo  \n",
       "0             0.000000     0.116    0.437  128.945  \n",
       "1             0.000000     0.689    0.625  129.965  \n",
       "2             0.000007     0.109    0.620   78.558  \n",
       "3             0.000000     0.271    0.571  127.435  \n",
       "4             0.000000     0.405    0.758  100.024  \n",
       "...                ...       ...      ...      ...  \n",
       "5290          0.000000     0.199    0.487  122.034  \n",
       "5291          0.000011     0.341    0.172  181.088  \n",
       "5292          0.000000     0.325    0.441   81.008  \n",
       "5293          0.000039     0.101    0.563  105.012  \n",
       "5294          0.000000     0.203    0.553   83.970  \n",
       "\n",
       "[5295 rows x 11 columns]"
      ]
     },
     "execution_count": 156,
     "metadata": {},
     "output_type": "execute_result"
    }
   ],
   "source": [
    "df_features = pd.DataFrame.from_dict({'danceability':danceability, 'energy':energy, 'key':key, 'loudness':loudness, 'mode':mode, 'speechiness':speechiness, 'acousticness':acousticness, 'instrumentalness':instrumentalness, 'liveness':liveness, 'valence':valence, 'tempo':tempo})\n",
    "df_features"
   ]
  },
  {
   "cell_type": "code",
   "execution_count": 155,
   "id": "6fbff817",
   "metadata": {},
   "outputs": [],
   "source": [
    "danceability = [features1[i]['danceability'] for i in range(len(features1))]\n",
    "energy = [features1[i]['energy'] for i in range(len(features1))]\n",
    "key = [features1[i]['key'] for i in range(len(features1))]\n",
    "loudness = [features1[i]['loudness'] for i in range(len(features1))]\n",
    "mode = [features1[i]['mode'] for i in range(len(features1))]\n",
    "speechiness = [features1[i]['speechiness'] for i in range(len(features1))]\n",
    "acousticness = [features1[i]['acousticness'] for i in range(len(features1))]\n",
    "instrumentalness = [features1[i]['instrumentalness'] for i in range(len(features1))]\n",
    "liveness = [features1[i]['liveness'] for i in range(len(features1))]\n",
    "valence = [features1[i]['valence'] for i in range(len(features1))]\n",
    "tempo = [features1[i]['tempo'] for i in range(len(features1))]"
   ]
  },
  {
   "cell_type": "code",
   "execution_count": 157,
   "id": "8547180d",
   "metadata": {},
   "outputs": [],
   "source": [
    "df_final = pd.concat([df_artist, df_name, df_uri, df_features], axis=1)"
   ]
  },
  {
   "cell_type": "code",
   "execution_count": 158,
   "id": "130ecca9",
   "metadata": {},
   "outputs": [
    {
     "data": {
      "text/html": [
       "<div>\n",
       "<style scoped>\n",
       "    .dataframe tbody tr th:only-of-type {\n",
       "        vertical-align: middle;\n",
       "    }\n",
       "\n",
       "    .dataframe tbody tr th {\n",
       "        vertical-align: top;\n",
       "    }\n",
       "\n",
       "    .dataframe thead th {\n",
       "        text-align: right;\n",
       "    }\n",
       "</style>\n",
       "<table border=\"1\" class=\"dataframe\">\n",
       "  <thead>\n",
       "    <tr style=\"text-align: right;\">\n",
       "      <th></th>\n",
       "      <th>artist</th>\n",
       "      <th>name</th>\n",
       "      <th>uri</th>\n",
       "      <th>danceability</th>\n",
       "      <th>energy</th>\n",
       "      <th>key</th>\n",
       "      <th>loudness</th>\n",
       "      <th>mode</th>\n",
       "      <th>speechiness</th>\n",
       "      <th>acousticness</th>\n",
       "      <th>instrumentalness</th>\n",
       "      <th>liveness</th>\n",
       "      <th>valence</th>\n",
       "      <th>tempo</th>\n",
       "    </tr>\n",
       "  </thead>\n",
       "  <tbody>\n",
       "    <tr>\n",
       "      <th>0</th>\n",
       "      <td>Hozier</td>\n",
       "      <td>Take Me To Church</td>\n",
       "      <td>spotify:track:7dS5EaCoMnN7DzlpT6aRn2</td>\n",
       "      <td>0.566</td>\n",
       "      <td>0.664</td>\n",
       "      <td>4</td>\n",
       "      <td>-5.303</td>\n",
       "      <td>0</td>\n",
       "      <td>0.0464</td>\n",
       "      <td>0.63400</td>\n",
       "      <td>0.000000</td>\n",
       "      <td>0.116</td>\n",
       "      <td>0.437</td>\n",
       "      <td>128.945</td>\n",
       "    </tr>\n",
       "    <tr>\n",
       "      <th>1</th>\n",
       "      <td>Mike Posner</td>\n",
       "      <td>Cooler Than Me - Single Mix</td>\n",
       "      <td>spotify:track:2V4bv1fNWfTcyRJKmej6Sj</td>\n",
       "      <td>0.768</td>\n",
       "      <td>0.820</td>\n",
       "      <td>7</td>\n",
       "      <td>-4.630</td>\n",
       "      <td>0</td>\n",
       "      <td>0.0474</td>\n",
       "      <td>0.17900</td>\n",
       "      <td>0.000000</td>\n",
       "      <td>0.689</td>\n",
       "      <td>0.625</td>\n",
       "      <td>129.965</td>\n",
       "    </tr>\n",
       "    <tr>\n",
       "      <th>2</th>\n",
       "      <td>Tyler, The Creator</td>\n",
       "      <td>See You Again (feat. Kali Uchis)</td>\n",
       "      <td>spotify:track:7KA4W4McWYRpgf0fWsJZWB</td>\n",
       "      <td>0.558</td>\n",
       "      <td>0.559</td>\n",
       "      <td>6</td>\n",
       "      <td>-9.222</td>\n",
       "      <td>1</td>\n",
       "      <td>0.0959</td>\n",
       "      <td>0.37100</td>\n",
       "      <td>0.000007</td>\n",
       "      <td>0.109</td>\n",
       "      <td>0.620</td>\n",
       "      <td>78.558</td>\n",
       "    </tr>\n",
       "    <tr>\n",
       "      <th>3</th>\n",
       "      <td>Bastille</td>\n",
       "      <td>Pompeii</td>\n",
       "      <td>spotify:track:3gbBpTdY8lnQwqxNCcf795</td>\n",
       "      <td>0.679</td>\n",
       "      <td>0.715</td>\n",
       "      <td>9</td>\n",
       "      <td>-6.383</td>\n",
       "      <td>1</td>\n",
       "      <td>0.0407</td>\n",
       "      <td>0.07550</td>\n",
       "      <td>0.000000</td>\n",
       "      <td>0.271</td>\n",
       "      <td>0.571</td>\n",
       "      <td>127.435</td>\n",
       "    </tr>\n",
       "    <tr>\n",
       "      <th>4</th>\n",
       "      <td>Shakira</td>\n",
       "      <td>Hips Don't Lie (feat. Wyclef Jean)</td>\n",
       "      <td>spotify:track:3ZFTkvIE7kyPt6Nu3PEa7V</td>\n",
       "      <td>0.778</td>\n",
       "      <td>0.824</td>\n",
       "      <td>10</td>\n",
       "      <td>-5.892</td>\n",
       "      <td>0</td>\n",
       "      <td>0.0707</td>\n",
       "      <td>0.28400</td>\n",
       "      <td>0.000000</td>\n",
       "      <td>0.405</td>\n",
       "      <td>0.758</td>\n",
       "      <td>100.024</td>\n",
       "    </tr>\n",
       "    <tr>\n",
       "      <th>...</th>\n",
       "      <td>...</td>\n",
       "      <td>...</td>\n",
       "      <td>...</td>\n",
       "      <td>...</td>\n",
       "      <td>...</td>\n",
       "      <td>...</td>\n",
       "      <td>...</td>\n",
       "      <td>...</td>\n",
       "      <td>...</td>\n",
       "      <td>...</td>\n",
       "      <td>...</td>\n",
       "      <td>...</td>\n",
       "      <td>...</td>\n",
       "      <td>...</td>\n",
       "    </tr>\n",
       "    <tr>\n",
       "      <th>5290</th>\n",
       "      <td>MARINA</td>\n",
       "      <td>Hermit the Frog</td>\n",
       "      <td>spotify:track:4Zcz6saEkOII3PlXd9gN3o</td>\n",
       "      <td>0.609</td>\n",
       "      <td>0.679</td>\n",
       "      <td>0</td>\n",
       "      <td>-4.545</td>\n",
       "      <td>1</td>\n",
       "      <td>0.0312</td>\n",
       "      <td>0.24300</td>\n",
       "      <td>0.000000</td>\n",
       "      <td>0.199</td>\n",
       "      <td>0.487</td>\n",
       "      <td>122.034</td>\n",
       "    </tr>\n",
       "    <tr>\n",
       "      <th>5291</th>\n",
       "      <td>Olivia Rodrigo</td>\n",
       "      <td>deja vu</td>\n",
       "      <td>spotify:track:61KpQadow081I2AsbeLcsb</td>\n",
       "      <td>0.439</td>\n",
       "      <td>0.610</td>\n",
       "      <td>9</td>\n",
       "      <td>-7.236</td>\n",
       "      <td>1</td>\n",
       "      <td>0.1160</td>\n",
       "      <td>0.59300</td>\n",
       "      <td>0.000011</td>\n",
       "      <td>0.341</td>\n",
       "      <td>0.172</td>\n",
       "      <td>181.088</td>\n",
       "    </tr>\n",
       "    <tr>\n",
       "      <th>5292</th>\n",
       "      <td>BIA</td>\n",
       "      <td>WHOLE LOTTA MONEY</td>\n",
       "      <td>spotify:track:5yorXJWdBan1Vlh116ZtQ7</td>\n",
       "      <td>0.897</td>\n",
       "      <td>0.371</td>\n",
       "      <td>1</td>\n",
       "      <td>-5.019</td>\n",
       "      <td>1</td>\n",
       "      <td>0.3680</td>\n",
       "      <td>0.09040</td>\n",
       "      <td>0.000000</td>\n",
       "      <td>0.325</td>\n",
       "      <td>0.441</td>\n",
       "      <td>81.008</td>\n",
       "    </tr>\n",
       "    <tr>\n",
       "      <th>5293</th>\n",
       "      <td>Ashnikko</td>\n",
       "      <td>Slumber Party (feat. Princess Nokia)</td>\n",
       "      <td>spotify:track:11ZulcYY4lowvcQm4oe3VJ</td>\n",
       "      <td>0.964</td>\n",
       "      <td>0.398</td>\n",
       "      <td>11</td>\n",
       "      <td>-8.981</td>\n",
       "      <td>0</td>\n",
       "      <td>0.0795</td>\n",
       "      <td>0.00151</td>\n",
       "      <td>0.000039</td>\n",
       "      <td>0.101</td>\n",
       "      <td>0.563</td>\n",
       "      <td>105.012</td>\n",
       "    </tr>\n",
       "    <tr>\n",
       "      <th>5294</th>\n",
       "      <td>Kali Uchis</td>\n",
       "      <td>telepatía</td>\n",
       "      <td>spotify:track:6tDDoYIxWvMLTdKpjFkc1B</td>\n",
       "      <td>0.653</td>\n",
       "      <td>0.524</td>\n",
       "      <td>11</td>\n",
       "      <td>-9.016</td>\n",
       "      <td>0</td>\n",
       "      <td>0.0502</td>\n",
       "      <td>0.11200</td>\n",
       "      <td>0.000000</td>\n",
       "      <td>0.203</td>\n",
       "      <td>0.553</td>\n",
       "      <td>83.970</td>\n",
       "    </tr>\n",
       "  </tbody>\n",
       "</table>\n",
       "<p>5295 rows × 14 columns</p>\n",
       "</div>"
      ],
      "text/plain": [
       "                  artist                                  name  \\\n",
       "0                 Hozier                     Take Me To Church   \n",
       "1            Mike Posner           Cooler Than Me - Single Mix   \n",
       "2     Tyler, The Creator      See You Again (feat. Kali Uchis)   \n",
       "3               Bastille                               Pompeii   \n",
       "4                Shakira    Hips Don't Lie (feat. Wyclef Jean)   \n",
       "...                  ...                                   ...   \n",
       "5290              MARINA                       Hermit the Frog   \n",
       "5291      Olivia Rodrigo                               deja vu   \n",
       "5292                 BIA                     WHOLE LOTTA MONEY   \n",
       "5293            Ashnikko  Slumber Party (feat. Princess Nokia)   \n",
       "5294          Kali Uchis                             telepatía   \n",
       "\n",
       "                                       uri  danceability  energy  key  \\\n",
       "0     spotify:track:7dS5EaCoMnN7DzlpT6aRn2         0.566   0.664    4   \n",
       "1     spotify:track:2V4bv1fNWfTcyRJKmej6Sj         0.768   0.820    7   \n",
       "2     spotify:track:7KA4W4McWYRpgf0fWsJZWB         0.558   0.559    6   \n",
       "3     spotify:track:3gbBpTdY8lnQwqxNCcf795         0.679   0.715    9   \n",
       "4     spotify:track:3ZFTkvIE7kyPt6Nu3PEa7V         0.778   0.824   10   \n",
       "...                                    ...           ...     ...  ...   \n",
       "5290  spotify:track:4Zcz6saEkOII3PlXd9gN3o         0.609   0.679    0   \n",
       "5291  spotify:track:61KpQadow081I2AsbeLcsb         0.439   0.610    9   \n",
       "5292  spotify:track:5yorXJWdBan1Vlh116ZtQ7         0.897   0.371    1   \n",
       "5293  spotify:track:11ZulcYY4lowvcQm4oe3VJ         0.964   0.398   11   \n",
       "5294  spotify:track:6tDDoYIxWvMLTdKpjFkc1B         0.653   0.524   11   \n",
       "\n",
       "      loudness  mode  speechiness  acousticness  instrumentalness  liveness  \\\n",
       "0       -5.303     0       0.0464       0.63400          0.000000     0.116   \n",
       "1       -4.630     0       0.0474       0.17900          0.000000     0.689   \n",
       "2       -9.222     1       0.0959       0.37100          0.000007     0.109   \n",
       "3       -6.383     1       0.0407       0.07550          0.000000     0.271   \n",
       "4       -5.892     0       0.0707       0.28400          0.000000     0.405   \n",
       "...        ...   ...          ...           ...               ...       ...   \n",
       "5290    -4.545     1       0.0312       0.24300          0.000000     0.199   \n",
       "5291    -7.236     1       0.1160       0.59300          0.000011     0.341   \n",
       "5292    -5.019     1       0.3680       0.09040          0.000000     0.325   \n",
       "5293    -8.981     0       0.0795       0.00151          0.000039     0.101   \n",
       "5294    -9.016     0       0.0502       0.11200          0.000000     0.203   \n",
       "\n",
       "      valence    tempo  \n",
       "0       0.437  128.945  \n",
       "1       0.625  129.965  \n",
       "2       0.620   78.558  \n",
       "3       0.571  127.435  \n",
       "4       0.758  100.024  \n",
       "...       ...      ...  \n",
       "5290    0.487  122.034  \n",
       "5291    0.172  181.088  \n",
       "5292    0.441   81.008  \n",
       "5293    0.563  105.012  \n",
       "5294    0.553   83.970  \n",
       "\n",
       "[5295 rows x 14 columns]"
      ]
     },
     "execution_count": 158,
     "metadata": {},
     "output_type": "execute_result"
    }
   ],
   "source": [
    "df_final"
   ]
  },
  {
   "cell_type": "code",
   "execution_count": 45,
   "id": "fa4f2361",
   "metadata": {},
   "outputs": [],
   "source": [
    "import numpy as np\n",
    "import matplotlib.pyplot as plt\n",
    "\n",
    "from sklearn import cluster, datasets\n",
    "from sklearn.preprocessing import StandardScaler\n",
    "from matplotlib.lines import Line2D"
   ]
  },
  {
   "cell_type": "code",
   "execution_count": 159,
   "id": "ff825602",
   "metadata": {},
   "outputs": [],
   "source": [
    "cluster_data = df_final.drop(['artist','name','uri'], axis=1)"
   ]
  },
  {
   "cell_type": "code",
   "execution_count": 160,
   "id": "bcee4f7a",
   "metadata": {},
   "outputs": [],
   "source": [
    "scaler= StandardScaler().fit(cluster_data)\n",
    "X_scaled = scaler.transform(cluster_data)"
   ]
  },
  {
   "cell_type": "code",
   "execution_count": 161,
   "id": "119444c6",
   "metadata": {},
   "outputs": [
    {
     "data": {
      "text/plain": [
       "KMeans(n_clusters=3, random_state=1234)"
      ]
     },
     "execution_count": 161,
     "metadata": {},
     "output_type": "execute_result"
    }
   ],
   "source": [
    "from sklearn.cluster import KMeans\n",
    "\n",
    "kmeans = KMeans(n_clusters=3, random_state=1234)\n",
    "kmeans.fit(X_scaled)"
   ]
  },
  {
   "cell_type": "code",
   "execution_count": 162,
   "id": "800cea2c",
   "metadata": {},
   "outputs": [
    {
     "data": {
      "text/plain": [
       "0    1473\n",
       "1     157\n",
       "2    3665\n",
       "dtype: int64"
      ]
     },
     "execution_count": 162,
     "metadata": {},
     "output_type": "execute_result"
    }
   ],
   "source": [
    "clusters = kmeans.predict(X_scaled)\n",
    "pd.Series(clusters).value_counts().sort_index()"
   ]
  },
  {
   "cell_type": "code",
   "execution_count": 163,
   "id": "a1a56735",
   "metadata": {},
   "outputs": [],
   "source": [
    "df_final['cluster'] = clusters"
   ]
  },
  {
   "cell_type": "code",
   "execution_count": 164,
   "id": "e2c82b32",
   "metadata": {},
   "outputs": [
    {
     "data": {
      "text/plain": [
       "Text(0.5, 1.0, 'Elbow Method showing the optimal k')"
      ]
     },
     "execution_count": 164,
     "metadata": {},
     "output_type": "execute_result"
    },
    {
     "data": {
      "image/png": "[encoded data removed]",
      "text/plain": [
       "<Figure size 1152x576 with 1 Axes>"
      ]
     },
     "metadata": {
      "needs_background": "light"
     },
     "output_type": "display_data"
    }
   ],
   "source": [
    "import numpy as np\n",
    "K = range(2, 20)\n",
    "inertia = []\n",
    "\n",
    "for k in K:\n",
    "    kmeans = KMeans(n_clusters=k,\n",
    "                    random_state=1234)\n",
    "    kmeans.fit(X_scaled)\n",
    "    inertia.append(kmeans.inertia_)\n",
    "\n",
    "import matplotlib.pyplot as plt\n",
    "%matplotlib inline\n",
    "\n",
    "plt.figure(figsize=(16,8))\n",
    "plt.plot(K, inertia, 'bx-')\n",
    "plt.xlabel('k')\n",
    "plt.ylabel('inertia')\n",
    "plt.xticks(np.arange(min(K), max(K)+1, 1.0))\n",
    "plt.title('Elbow Method showing the optimal k')"
   ]
  },
  {
   "cell_type": "code",
   "execution_count": 165,
   "id": "2a0e433f",
   "metadata": {},
   "outputs": [
    {
     "data": {
      "text/plain": [
       "0     646\n",
       "1    1786\n",
       "2     667\n",
       "3    2046\n",
       "4     150\n",
       "dtype: int64"
      ]
     },
     "execution_count": 165,
     "metadata": {},
     "output_type": "execute_result"
    }
   ],
   "source": [
    "kmeans = KMeans(n_clusters=5, random_state=1234)\n",
    "kmeans.fit(X_scaled)\n",
    "clusters = kmeans.predict(X_scaled)\n",
    "pd.Series(clusters).value_counts().sort_index()"
   ]
  },
  {
   "cell_type": "code",
   "execution_count": 166,
   "id": "eb9bad5b",
   "metadata": {},
   "outputs": [
    {
     "data": {
      "text/plain": [
       "(5295,)"
      ]
     },
     "execution_count": 166,
     "metadata": {},
     "output_type": "execute_result"
    }
   ],
   "source": [
    "clusters.shape"
   ]
  },
  {
   "cell_type": "code",
   "execution_count": 167,
   "id": "3706c925",
   "metadata": {},
   "outputs": [
    {
     "data": {
      "text/plain": [
       "39212.0223673177"
      ]
     },
     "execution_count": 167,
     "metadata": {},
     "output_type": "execute_result"
    }
   ],
   "source": [
    "kmeans.inertia_ "
   ]
  },
  {
   "cell_type": "code",
   "execution_count": 168,
   "id": "72ebe29c",
   "metadata": {},
   "outputs": [
    {
     "name": "stdout",
     "output_type": "stream",
     "text": [
      "42180.9149181349\n"
     ]
    }
   ],
   "source": [
    "kmeans = KMeans(n_clusters=4,\n",
    "                init=\"random\",\n",
    "                n_init=30,  \n",
    "                max_iter=10,\n",
    "                tol=0,\n",
    "                random_state=1234)\n",
    "kmeans.fit(X_scaled)\n",
    "print(kmeans.inertia_)"
   ]
  },
  {
   "cell_type": "code",
   "execution_count": 169,
   "id": "7949a9c7",
   "metadata": {},
   "outputs": [
    {
     "data": {
      "image/png": "[encoded data removed]",
      "text/plain": [
       "<Figure size 360x360 with 1 Axes>"
      ]
     },
     "metadata": {
      "needs_background": "light"
     },
     "output_type": "display_data"
    }
   ],
   "source": [
    "agglomerative = cluster.AgglomerativeClustering(n_clusters=3,linkage='complete')\n",
    "pred = agglomerative.fit_predict(X_scaled)\n",
    "\n",
    "plt.figure(figsize=(5, 5))\n",
    "plt.scatter(X_scaled[:, 0], X_scaled[:, 1], c=pred,alpha=0.5)\n",
    "plt.show()"
   ]
  },
  {
   "cell_type": "code",
   "execution_count": 90,
   "id": "b0b9ed2a",
   "metadata": {},
   "outputs": [],
   "source": [
    "# df_final.head()"
   ]
  },
  {
   "cell_type": "code",
   "execution_count": 121,
   "id": "e3269a75",
   "metadata": {},
   "outputs": [],
   "source": [
    "topsongs = pd.read_csv(r'C:\\Users\\hp\\OneDrive\\Desktop\\DAFT\\Day26 Lab\\lab-web-scraping-single-page\\topsongs.csv')\n",
    "# topsongs"
   ]
  },
  {
   "cell_type": "code",
   "execution_count": 123,
   "id": "6152ac0e",
   "metadata": {},
   "outputs": [
    {
     "name": "stdout",
     "output_type": "stream",
     "text": [
      "    Unnamed: 0              song                                   artist\n",
      "0            0        Way 2 Sexy      Drake Featuring Future & Young Thug\n",
      "1            1  Girls Want Girls                 Drake Featuring Lil Baby\n",
      "2            2        Fair Trade             Drake Featuring Travis Scott\n",
      "3            3  Champagne Poetry                                    Drake\n",
      "4            4        Knife Talk  Drake Featuring 21 Savage & Project Pat\n",
      "..         ...               ...                                      ...\n",
      "95          95    Summer Of Love                     Shawn Mendes & Tainy\n",
      "96          96        Ain't Shit                                 Doja Cat\n",
      "97          97       Motley Crew                              Post Malone\n",
      "98          98    Remote Control                               Kanye West\n",
      "99          99           Baddest        Yung Bleu, Chris Brown & 2 Chainz\n",
      "\n",
      "[100 rows x 3 columns]\n"
     ]
    }
   ],
   "source": [
    "print(topsongs)"
   ]
  },
  {
   "cell_type": "code",
   "execution_count": 184,
   "id": "370922ca",
   "metadata": {},
   "outputs": [
    {
     "data": {
      "text/plain": [
       "True"
      ]
     },
     "execution_count": 184,
     "metadata": {},
     "output_type": "execute_result"
    }
   ],
   "source": [
    "'Remote Control' in np.array(topsongs)"
   ]
  },
  {
   "cell_type": "code",
   "execution_count": 92,
   "id": "64cedf8c",
   "metadata": {},
   "outputs": [],
   "source": [
    "import random"
   ]
  },
  {
   "cell_type": "code",
   "execution_count": 170,
   "id": "830747bf",
   "metadata": {},
   "outputs": [],
   "source": [
    "def features_api(track, artist):\n",
    "    track_id = sp.search(q='artist:' + artist + ' track:' + track, type='track')\n",
    "    uri = track_id[\"tracks\"][\"items\"][0]['id']\n",
    "    features_api = sp.audio_features(uri)\n",
    "    return features_api"
   ]
  },
  {
   "cell_type": "code",
   "execution_count": 148,
   "id": "56e4cbf9",
   "metadata": {},
   "outputs": [
    {
     "data": {
      "text/plain": [
       "[{'danceability': 0.566,\n",
       "  'energy': 0.664,\n",
       "  'key': 4,\n",
       "  'loudness': -5.303,\n",
       "  'mode': 0,\n",
       "  'speechiness': 0.0464,\n",
       "  'acousticness': 0.634,\n",
       "  'instrumentalness': 0,\n",
       "  'liveness': 0.116,\n",
       "  'valence': 0.437,\n",
       "  'tempo': 128.945,\n",
       "  'type': 'audio_features',\n",
       "  'id': '1CS7Sd1u5tWkstBhpssyjP',\n",
       "  'uri': 'spotify:track:1CS7Sd1u5tWkstBhpssyjP',\n",
       "  'track_href': 'https://api.spotify.com/v1/tracks/1CS7Sd1u5tWkstBhpssyjP',\n",
       "  'analysis_url': 'https://api.spotify.com/v1/audio-analysis/1CS7Sd1u5tWkstBhpssyjP',\n",
       "  'duration_ms': 241693,\n",
       "  'time_signature': 4}]"
      ]
     },
     "execution_count": 148,
     "metadata": {},
     "output_type": "execute_result"
    }
   ],
   "source": [
    "features_api('Take Me To Church', 'Hozier')"
   ]
  },
  {
   "cell_type": "code",
   "execution_count": null,
   "id": "fd261b2f",
   "metadata": {},
   "outputs": [],
   "source": [
    "# if new_song in list(top100['song_title']):\n",
    "#     recommendation_hot = random.choice(list(top100['song_title']))\n",
    "#     while recommendation_hot == new_song:\n",
    "#             recommendation_hot = random.choice(list(top100['song_title']))\n",
    "#             print('Your recommendation:', recommendation_hot)\n",
    "# else:\n",
    "#     feature = features(new_song, new_artist)\n",
    "#     column = list(feature[0].keys())\n",
    "#     values = [list(feature[0].values())]\n",
    "#     df_new_song = pd.DataFrame(data = feature, columns = column)\n",
    "#     df_new_song = df_new_song.drop(['type','id','uri','track_href','analysis_url','duration_ms','time_signature'],axis=1)\n",
    "#     std_new_song = scaler.transform(df_new_song)\n",
    "#     new_cluster = kmeans.predict(std_new_song)\n",
    "#     df_cluster = cluster_df[cluster_df['cluster'] == list(new_cluster)[0]]\n",
    "\n",
    "#     print('Your recommendation:',random.choice(list(df_cluster['song_and_artist'])))\n"
   ]
  },
  {
   "cell_type": "code",
   "execution_count": null,
   "id": "5d26c244",
   "metadata": {},
   "outputs": [],
   "source": [
    "# def recommend():\n",
    "#     new_song = input(\"Enter a song: \").lower()\n",
    "#     new_artist = input(\"Enter an artist: \").lower()\n",
    "#     if new_song in np.array(topsongs['song']):\n",
    "#         return random.choice(np.array(topsongs['song']))\n",
    "#     else:\n",
    "#         feature = features_api(new_song, new_artist)\n",
    "#         column = list(feature[0].keys())\n",
    "#         values = [list(feature[0].values())]\n",
    "#         df_new_song = pd.DataFrame(data = feature, columns = column)\n",
    "#         df_new_song = df_new_song.drop(['type','id','uri','track_href','analysis_url','duration_ms','time_signature'],axis=1)\n",
    "#         std_new_song = scaler.transform(df_new_song)\n",
    "#         new_cluster = kmeans.predict(std_new_song)\n",
    "#         df_cluster = df_final[df_final['cluster'] == list(new_cluster)[0]]\n",
    "        \n",
    "\n",
    "#         print('Your recommendation:',random.choice(list(df_cluster['name'])))"
   ]
  },
  {
   "cell_type": "code",
   "execution_count": 211,
   "id": "86127ddc",
   "metadata": {},
   "outputs": [],
   "source": [
    "\n",
    "def recommend():\n",
    "    new_song = input(\"Enter a song: \").lower()\n",
    "    new_artist = input(\"Enter an artist: \").lower()\n",
    "    try:\n",
    "        \n",
    "        if new_song in np.array(topsongs['song']):\n",
    "            return random.choice(np.array(topsongs['song']))\n",
    "        else:\n",
    "            feature = features_api(new_song, new_artist)\n",
    "            column = list(feature[0].keys())\n",
    "            values = [list(feature[0].values())]\n",
    "            df_new_song = pd.DataFrame(data = feature, columns = column)\n",
    "            df_new_song = df_new_song.drop(['type','id','uri','track_href','analysis_url','duration_ms','time_signature'],axis=1)\n",
    "            std_new_song = scaler.transform(df_new_song)\n",
    "            new_cluster = kmeans.predict(std_new_song)\n",
    "            df_cluster = df_final[df_final['cluster'] == list(new_cluster)[0]]\n",
    "        \n",
    "\n",
    "            print('Your recommendation:',random.choice(list(df_cluster['name'])))\n",
    "    except:\n",
    "         print('Ups! This song is not exist! Please try a new one')\n",
    "#     new_artist = input('Enter an artist: ')\n",
    "#     song_scaled = scaler.transform(song_audio_features)\n",
    "#     kmeans.predict(song_scaled)\n",
    "    \n",
    "#     for s in kmeans.predict(song_scaled):\n",
    "#         print(random.df_final['name'])"
   ]
  },
  {
   "cell_type": "code",
   "execution_count": 213,
   "id": "3d28c648",
   "metadata": {},
   "outputs": [
    {
     "name": "stdout",
     "output_type": "stream",
     "text": [
      "Enter a song: git\n",
      "Enter an artist: sezen aksu\n",
      "Your recommendation: Tyynysotaa\n"
     ]
    }
   ],
   "source": [
    "recommend()"
   ]
  },
  {
   "cell_type": "code",
   "execution_count": 183,
   "id": "d2f4ed84",
   "metadata": {},
   "outputs": [
    {
     "data": {
      "text/html": [
       "<div>\n",
       "<style scoped>\n",
       "    .dataframe tbody tr th:only-of-type {\n",
       "        vertical-align: middle;\n",
       "    }\n",
       "\n",
       "    .dataframe tbody tr th {\n",
       "        vertical-align: top;\n",
       "    }\n",
       "\n",
       "    .dataframe thead th {\n",
       "        text-align: right;\n",
       "    }\n",
       "</style>\n",
       "<table border=\"1\" class=\"dataframe\">\n",
       "  <thead>\n",
       "    <tr style=\"text-align: right;\">\n",
       "      <th></th>\n",
       "      <th>artist</th>\n",
       "      <th>name</th>\n",
       "      <th>uri</th>\n",
       "      <th>danceability</th>\n",
       "      <th>energy</th>\n",
       "      <th>key</th>\n",
       "      <th>loudness</th>\n",
       "      <th>mode</th>\n",
       "      <th>speechiness</th>\n",
       "      <th>acousticness</th>\n",
       "      <th>instrumentalness</th>\n",
       "      <th>liveness</th>\n",
       "      <th>valence</th>\n",
       "      <th>tempo</th>\n",
       "      <th>cluster</th>\n",
       "    </tr>\n",
       "  </thead>\n",
       "  <tbody>\n",
       "    <tr>\n",
       "      <th>0</th>\n",
       "      <td>Hozier</td>\n",
       "      <td>Take Me To Church</td>\n",
       "      <td>spotify:track:7dS5EaCoMnN7DzlpT6aRn2</td>\n",
       "      <td>0.566</td>\n",
       "      <td>0.664</td>\n",
       "      <td>4</td>\n",
       "      <td>-5.303</td>\n",
       "      <td>0</td>\n",
       "      <td>0.0464</td>\n",
       "      <td>0.63400</td>\n",
       "      <td>0.000000</td>\n",
       "      <td>0.116</td>\n",
       "      <td>0.437</td>\n",
       "      <td>128.945</td>\n",
       "      <td>0</td>\n",
       "    </tr>\n",
       "    <tr>\n",
       "      <th>1</th>\n",
       "      <td>Mike Posner</td>\n",
       "      <td>Cooler Than Me - Single Mix</td>\n",
       "      <td>spotify:track:2V4bv1fNWfTcyRJKmej6Sj</td>\n",
       "      <td>0.768</td>\n",
       "      <td>0.820</td>\n",
       "      <td>7</td>\n",
       "      <td>-4.630</td>\n",
       "      <td>0</td>\n",
       "      <td>0.0474</td>\n",
       "      <td>0.17900</td>\n",
       "      <td>0.000000</td>\n",
       "      <td>0.689</td>\n",
       "      <td>0.625</td>\n",
       "      <td>129.965</td>\n",
       "      <td>2</td>\n",
       "    </tr>\n",
       "    <tr>\n",
       "      <th>2</th>\n",
       "      <td>Tyler, The Creator</td>\n",
       "      <td>See You Again (feat. Kali Uchis)</td>\n",
       "      <td>spotify:track:7KA4W4McWYRpgf0fWsJZWB</td>\n",
       "      <td>0.558</td>\n",
       "      <td>0.559</td>\n",
       "      <td>6</td>\n",
       "      <td>-9.222</td>\n",
       "      <td>1</td>\n",
       "      <td>0.0959</td>\n",
       "      <td>0.37100</td>\n",
       "      <td>0.000007</td>\n",
       "      <td>0.109</td>\n",
       "      <td>0.620</td>\n",
       "      <td>78.558</td>\n",
       "      <td>0</td>\n",
       "    </tr>\n",
       "    <tr>\n",
       "      <th>3</th>\n",
       "      <td>Bastille</td>\n",
       "      <td>Pompeii</td>\n",
       "      <td>spotify:track:3gbBpTdY8lnQwqxNCcf795</td>\n",
       "      <td>0.679</td>\n",
       "      <td>0.715</td>\n",
       "      <td>9</td>\n",
       "      <td>-6.383</td>\n",
       "      <td>1</td>\n",
       "      <td>0.0407</td>\n",
       "      <td>0.07550</td>\n",
       "      <td>0.000000</td>\n",
       "      <td>0.271</td>\n",
       "      <td>0.571</td>\n",
       "      <td>127.435</td>\n",
       "      <td>2</td>\n",
       "    </tr>\n",
       "    <tr>\n",
       "      <th>4</th>\n",
       "      <td>Shakira</td>\n",
       "      <td>Hips Don't Lie (feat. Wyclef Jean)</td>\n",
       "      <td>spotify:track:3ZFTkvIE7kyPt6Nu3PEa7V</td>\n",
       "      <td>0.778</td>\n",
       "      <td>0.824</td>\n",
       "      <td>10</td>\n",
       "      <td>-5.892</td>\n",
       "      <td>0</td>\n",
       "      <td>0.0707</td>\n",
       "      <td>0.28400</td>\n",
       "      <td>0.000000</td>\n",
       "      <td>0.405</td>\n",
       "      <td>0.758</td>\n",
       "      <td>100.024</td>\n",
       "      <td>2</td>\n",
       "    </tr>\n",
       "    <tr>\n",
       "      <th>...</th>\n",
       "      <td>...</td>\n",
       "      <td>...</td>\n",
       "      <td>...</td>\n",
       "      <td>...</td>\n",
       "      <td>...</td>\n",
       "      <td>...</td>\n",
       "      <td>...</td>\n",
       "      <td>...</td>\n",
       "      <td>...</td>\n",
       "      <td>...</td>\n",
       "      <td>...</td>\n",
       "      <td>...</td>\n",
       "      <td>...</td>\n",
       "      <td>...</td>\n",
       "      <td>...</td>\n",
       "    </tr>\n",
       "    <tr>\n",
       "      <th>5290</th>\n",
       "      <td>MARINA</td>\n",
       "      <td>Hermit the Frog</td>\n",
       "      <td>spotify:track:4Zcz6saEkOII3PlXd9gN3o</td>\n",
       "      <td>0.609</td>\n",
       "      <td>0.679</td>\n",
       "      <td>0</td>\n",
       "      <td>-4.545</td>\n",
       "      <td>1</td>\n",
       "      <td>0.0312</td>\n",
       "      <td>0.24300</td>\n",
       "      <td>0.000000</td>\n",
       "      <td>0.199</td>\n",
       "      <td>0.487</td>\n",
       "      <td>122.034</td>\n",
       "      <td>2</td>\n",
       "    </tr>\n",
       "    <tr>\n",
       "      <th>5291</th>\n",
       "      <td>Olivia Rodrigo</td>\n",
       "      <td>deja vu</td>\n",
       "      <td>spotify:track:61KpQadow081I2AsbeLcsb</td>\n",
       "      <td>0.439</td>\n",
       "      <td>0.610</td>\n",
       "      <td>9</td>\n",
       "      <td>-7.236</td>\n",
       "      <td>1</td>\n",
       "      <td>0.1160</td>\n",
       "      <td>0.59300</td>\n",
       "      <td>0.000011</td>\n",
       "      <td>0.341</td>\n",
       "      <td>0.172</td>\n",
       "      <td>181.088</td>\n",
       "      <td>0</td>\n",
       "    </tr>\n",
       "    <tr>\n",
       "      <th>5292</th>\n",
       "      <td>BIA</td>\n",
       "      <td>WHOLE LOTTA MONEY</td>\n",
       "      <td>spotify:track:5yorXJWdBan1Vlh116ZtQ7</td>\n",
       "      <td>0.897</td>\n",
       "      <td>0.371</td>\n",
       "      <td>1</td>\n",
       "      <td>-5.019</td>\n",
       "      <td>1</td>\n",
       "      <td>0.3680</td>\n",
       "      <td>0.09040</td>\n",
       "      <td>0.000000</td>\n",
       "      <td>0.325</td>\n",
       "      <td>0.441</td>\n",
       "      <td>81.008</td>\n",
       "      <td>0</td>\n",
       "    </tr>\n",
       "    <tr>\n",
       "      <th>5293</th>\n",
       "      <td>Ashnikko</td>\n",
       "      <td>Slumber Party (feat. Princess Nokia)</td>\n",
       "      <td>spotify:track:11ZulcYY4lowvcQm4oe3VJ</td>\n",
       "      <td>0.964</td>\n",
       "      <td>0.398</td>\n",
       "      <td>11</td>\n",
       "      <td>-8.981</td>\n",
       "      <td>0</td>\n",
       "      <td>0.0795</td>\n",
       "      <td>0.00151</td>\n",
       "      <td>0.000039</td>\n",
       "      <td>0.101</td>\n",
       "      <td>0.563</td>\n",
       "      <td>105.012</td>\n",
       "      <td>0</td>\n",
       "    </tr>\n",
       "    <tr>\n",
       "      <th>5294</th>\n",
       "      <td>Kali Uchis</td>\n",
       "      <td>telepatía</td>\n",
       "      <td>spotify:track:6tDDoYIxWvMLTdKpjFkc1B</td>\n",
       "      <td>0.653</td>\n",
       "      <td>0.524</td>\n",
       "      <td>11</td>\n",
       "      <td>-9.016</td>\n",
       "      <td>0</td>\n",
       "      <td>0.0502</td>\n",
       "      <td>0.11200</td>\n",
       "      <td>0.000000</td>\n",
       "      <td>0.203</td>\n",
       "      <td>0.553</td>\n",
       "      <td>83.970</td>\n",
       "      <td>0</td>\n",
       "    </tr>\n",
       "  </tbody>\n",
       "</table>\n",
       "<p>5295 rows × 15 columns</p>\n",
       "</div>"
      ],
      "text/plain": [
       "                  artist                                  name  \\\n",
       "0                 Hozier                     Take Me To Church   \n",
       "1            Mike Posner           Cooler Than Me - Single Mix   \n",
       "2     Tyler, The Creator      See You Again (feat. Kali Uchis)   \n",
       "3               Bastille                               Pompeii   \n",
       "4                Shakira    Hips Don't Lie (feat. Wyclef Jean)   \n",
       "...                  ...                                   ...   \n",
       "5290              MARINA                       Hermit the Frog   \n",
       "5291      Olivia Rodrigo                               deja vu   \n",
       "5292                 BIA                     WHOLE LOTTA MONEY   \n",
       "5293            Ashnikko  Slumber Party (feat. Princess Nokia)   \n",
       "5294          Kali Uchis                             telepatía   \n",
       "\n",
       "                                       uri  danceability  energy  key  \\\n",
       "0     spotify:track:7dS5EaCoMnN7DzlpT6aRn2         0.566   0.664    4   \n",
       "1     spotify:track:2V4bv1fNWfTcyRJKmej6Sj         0.768   0.820    7   \n",
       "2     spotify:track:7KA4W4McWYRpgf0fWsJZWB         0.558   0.559    6   \n",
       "3     spotify:track:3gbBpTdY8lnQwqxNCcf795         0.679   0.715    9   \n",
       "4     spotify:track:3ZFTkvIE7kyPt6Nu3PEa7V         0.778   0.824   10   \n",
       "...                                    ...           ...     ...  ...   \n",
       "5290  spotify:track:4Zcz6saEkOII3PlXd9gN3o         0.609   0.679    0   \n",
       "5291  spotify:track:61KpQadow081I2AsbeLcsb         0.439   0.610    9   \n",
       "5292  spotify:track:5yorXJWdBan1Vlh116ZtQ7         0.897   0.371    1   \n",
       "5293  spotify:track:11ZulcYY4lowvcQm4oe3VJ         0.964   0.398   11   \n",
       "5294  spotify:track:6tDDoYIxWvMLTdKpjFkc1B         0.653   0.524   11   \n",
       "\n",
       "      loudness  mode  speechiness  acousticness  instrumentalness  liveness  \\\n",
       "0       -5.303     0       0.0464       0.63400          0.000000     0.116   \n",
       "1       -4.630     0       0.0474       0.17900          0.000000     0.689   \n",
       "2       -9.222     1       0.0959       0.37100          0.000007     0.109   \n",
       "3       -6.383     1       0.0407       0.07550          0.000000     0.271   \n",
       "4       -5.892     0       0.0707       0.28400          0.000000     0.405   \n",
       "...        ...   ...          ...           ...               ...       ...   \n",
       "5290    -4.545     1       0.0312       0.24300          0.000000     0.199   \n",
       "5291    -7.236     1       0.1160       0.59300          0.000011     0.341   \n",
       "5292    -5.019     1       0.3680       0.09040          0.000000     0.325   \n",
       "5293    -8.981     0       0.0795       0.00151          0.000039     0.101   \n",
       "5294    -9.016     0       0.0502       0.11200          0.000000     0.203   \n",
       "\n",
       "      valence    tempo  cluster  \n",
       "0       0.437  128.945        0  \n",
       "1       0.625  129.965        2  \n",
       "2       0.620   78.558        0  \n",
       "3       0.571  127.435        2  \n",
       "4       0.758  100.024        2  \n",
       "...       ...      ...      ...  \n",
       "5290    0.487  122.034        2  \n",
       "5291    0.172  181.088        0  \n",
       "5292    0.441   81.008        0  \n",
       "5293    0.563  105.012        0  \n",
       "5294    0.553   83.970        0  \n",
       "\n",
       "[5295 rows x 15 columns]"
      ]
     },
     "execution_count": 183,
     "metadata": {},
     "output_type": "execute_result"
    }
   ],
   "source": [
    "df_final"
   ]
  },
  {
   "cell_type": "code",
   "execution_count": null,
   "id": "d3953b0e",
   "metadata": {},
   "outputs": [],
   "source": []
  }
 ],
 "metadata": {
  "kernelspec": {
   "display_name": "Python 3",
   "language": "python",
   "name": "python3"
  },
  "language_info": {
   "codemirror_mode": {
    "name": "ipython",
    "version": 3
   },
   "file_extension": ".py",
   "mimetype": "text/x-python",
   "name": "python",
   "nbconvert_exporter": "python",
   "pygments_lexer": "ipython3",
   "version": "3.8.8"
  }
 },
 "nbformat": 4,
 "nbformat_minor": 5
}
